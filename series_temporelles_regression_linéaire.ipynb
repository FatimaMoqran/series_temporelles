{
 "cells": [
  {
   "cell_type": "markdown",
   "metadata": {},
   "source": [
    "# Regression Linéaire avec Statsmodels"
   ]
  },
  {
   "cell_type": "markdown",
   "metadata": {},
   "source": [
    "## Importation des librairies"
   ]
  },
  {
   "cell_type": "code",
   "execution_count": 3,
   "metadata": {},
   "outputs": [],
   "source": [
    "import statsmodels.api as sm"
   ]
  },
  {
   "cell_type": "code",
   "execution_count": 4,
   "metadata": {},
   "outputs": [],
   "source": [
    "import statsmodels.formula.api as smf"
   ]
  },
  {
   "cell_type": "code",
   "execution_count": 5,
   "metadata": {},
   "outputs": [],
   "source": [
    "import pandas as pd"
   ]
  },
  {
   "cell_type": "code",
   "execution_count": 6,
   "metadata": {},
   "outputs": [],
   "source": [
    "import numpy as np"
   ]
  },
  {
   "cell_type": "code",
   "execution_count": 7,
   "metadata": {},
   "outputs": [],
   "source": [
    "import sklearn"
   ]
  },
  {
   "cell_type": "code",
   "execution_count": 8,
   "metadata": {},
   "outputs": [],
   "source": [
    "import seaborn as sns\n",
    "import matplotlib.pyplot as plt"
   ]
  },
  {
   "cell_type": "markdown",
   "metadata": {},
   "source": [
    "## on observe les données"
   ]
  },
  {
   "cell_type": "code",
   "execution_count": 9,
   "metadata": {},
   "outputs": [],
   "source": [
    "df = pd.read_csv('Real estate.csv')"
   ]
  },
  {
   "cell_type": "code",
   "execution_count": 10,
   "metadata": {},
   "outputs": [
    {
     "data": {
      "text/html": [
       "<div>\n",
       "<style scoped>\n",
       "    .dataframe tbody tr th:only-of-type {\n",
       "        vertical-align: middle;\n",
       "    }\n",
       "\n",
       "    .dataframe tbody tr th {\n",
       "        vertical-align: top;\n",
       "    }\n",
       "\n",
       "    .dataframe thead th {\n",
       "        text-align: right;\n",
       "    }\n",
       "</style>\n",
       "<table border=\"1\" class=\"dataframe\">\n",
       "  <thead>\n",
       "    <tr style=\"text-align: right;\">\n",
       "      <th></th>\n",
       "      <th>No</th>\n",
       "      <th>X1 transaction date</th>\n",
       "      <th>X2 house age</th>\n",
       "      <th>X3 distance to the nearest MRT station</th>\n",
       "      <th>X4 number of convenience stores</th>\n",
       "      <th>X5 latitude</th>\n",
       "      <th>X6 longitude</th>\n",
       "      <th>Y house price of unit area</th>\n",
       "    </tr>\n",
       "  </thead>\n",
       "  <tbody>\n",
       "    <tr>\n",
       "      <th>0</th>\n",
       "      <td>1</td>\n",
       "      <td>2012.917</td>\n",
       "      <td>32.0</td>\n",
       "      <td>84.87882</td>\n",
       "      <td>10</td>\n",
       "      <td>24.98298</td>\n",
       "      <td>121.54024</td>\n",
       "      <td>37.9</td>\n",
       "    </tr>\n",
       "    <tr>\n",
       "      <th>1</th>\n",
       "      <td>2</td>\n",
       "      <td>2012.917</td>\n",
       "      <td>19.5</td>\n",
       "      <td>306.59470</td>\n",
       "      <td>9</td>\n",
       "      <td>24.98034</td>\n",
       "      <td>121.53951</td>\n",
       "      <td>42.2</td>\n",
       "    </tr>\n",
       "    <tr>\n",
       "      <th>2</th>\n",
       "      <td>3</td>\n",
       "      <td>2013.583</td>\n",
       "      <td>13.3</td>\n",
       "      <td>561.98450</td>\n",
       "      <td>5</td>\n",
       "      <td>24.98746</td>\n",
       "      <td>121.54391</td>\n",
       "      <td>47.3</td>\n",
       "    </tr>\n",
       "    <tr>\n",
       "      <th>3</th>\n",
       "      <td>4</td>\n",
       "      <td>2013.500</td>\n",
       "      <td>13.3</td>\n",
       "      <td>561.98450</td>\n",
       "      <td>5</td>\n",
       "      <td>24.98746</td>\n",
       "      <td>121.54391</td>\n",
       "      <td>54.8</td>\n",
       "    </tr>\n",
       "    <tr>\n",
       "      <th>4</th>\n",
       "      <td>5</td>\n",
       "      <td>2012.833</td>\n",
       "      <td>5.0</td>\n",
       "      <td>390.56840</td>\n",
       "      <td>5</td>\n",
       "      <td>24.97937</td>\n",
       "      <td>121.54245</td>\n",
       "      <td>43.1</td>\n",
       "    </tr>\n",
       "  </tbody>\n",
       "</table>\n",
       "</div>"
      ],
      "text/plain": [
       "   No  X1 transaction date  X2 house age  \\\n",
       "0   1             2012.917          32.0   \n",
       "1   2             2012.917          19.5   \n",
       "2   3             2013.583          13.3   \n",
       "3   4             2013.500          13.3   \n",
       "4   5             2012.833           5.0   \n",
       "\n",
       "   X3 distance to the nearest MRT station  X4 number of convenience stores  \\\n",
       "0                                84.87882                               10   \n",
       "1                               306.59470                                9   \n",
       "2                               561.98450                                5   \n",
       "3                               561.98450                                5   \n",
       "4                               390.56840                                5   \n",
       "\n",
       "   X5 latitude  X6 longitude  Y house price of unit area  \n",
       "0     24.98298     121.54024                        37.9  \n",
       "1     24.98034     121.53951                        42.2  \n",
       "2     24.98746     121.54391                        47.3  \n",
       "3     24.98746     121.54391                        54.8  \n",
       "4     24.97937     121.54245                        43.1  "
      ]
     },
     "execution_count": 10,
     "metadata": {},
     "output_type": "execute_result"
    }
   ],
   "source": [
    "df.head()"
   ]
  },
  {
   "cell_type": "code",
   "execution_count": 11,
   "metadata": {},
   "outputs": [
    {
     "data": {
      "text/html": [
       "<div>\n",
       "<style scoped>\n",
       "    .dataframe tbody tr th:only-of-type {\n",
       "        vertical-align: middle;\n",
       "    }\n",
       "\n",
       "    .dataframe tbody tr th {\n",
       "        vertical-align: top;\n",
       "    }\n",
       "\n",
       "    .dataframe thead th {\n",
       "        text-align: right;\n",
       "    }\n",
       "</style>\n",
       "<table border=\"1\" class=\"dataframe\">\n",
       "  <thead>\n",
       "    <tr style=\"text-align: right;\">\n",
       "      <th></th>\n",
       "      <th>No</th>\n",
       "      <th>X1 transaction date</th>\n",
       "      <th>X2 house age</th>\n",
       "      <th>X3 distance to the nearest MRT station</th>\n",
       "      <th>X4 number of convenience stores</th>\n",
       "      <th>X5 latitude</th>\n",
       "      <th>X6 longitude</th>\n",
       "      <th>Y house price of unit area</th>\n",
       "    </tr>\n",
       "  </thead>\n",
       "  <tbody>\n",
       "    <tr>\n",
       "      <th>409</th>\n",
       "      <td>410</td>\n",
       "      <td>2013.000</td>\n",
       "      <td>13.7</td>\n",
       "      <td>4082.01500</td>\n",
       "      <td>0</td>\n",
       "      <td>24.94155</td>\n",
       "      <td>121.50381</td>\n",
       "      <td>15.4</td>\n",
       "    </tr>\n",
       "    <tr>\n",
       "      <th>410</th>\n",
       "      <td>411</td>\n",
       "      <td>2012.667</td>\n",
       "      <td>5.6</td>\n",
       "      <td>90.45606</td>\n",
       "      <td>9</td>\n",
       "      <td>24.97433</td>\n",
       "      <td>121.54310</td>\n",
       "      <td>50.0</td>\n",
       "    </tr>\n",
       "    <tr>\n",
       "      <th>411</th>\n",
       "      <td>412</td>\n",
       "      <td>2013.250</td>\n",
       "      <td>18.8</td>\n",
       "      <td>390.96960</td>\n",
       "      <td>7</td>\n",
       "      <td>24.97923</td>\n",
       "      <td>121.53986</td>\n",
       "      <td>40.6</td>\n",
       "    </tr>\n",
       "    <tr>\n",
       "      <th>412</th>\n",
       "      <td>413</td>\n",
       "      <td>2013.000</td>\n",
       "      <td>8.1</td>\n",
       "      <td>104.81010</td>\n",
       "      <td>5</td>\n",
       "      <td>24.96674</td>\n",
       "      <td>121.54067</td>\n",
       "      <td>52.5</td>\n",
       "    </tr>\n",
       "    <tr>\n",
       "      <th>413</th>\n",
       "      <td>414</td>\n",
       "      <td>2013.500</td>\n",
       "      <td>6.5</td>\n",
       "      <td>90.45606</td>\n",
       "      <td>9</td>\n",
       "      <td>24.97433</td>\n",
       "      <td>121.54310</td>\n",
       "      <td>63.9</td>\n",
       "    </tr>\n",
       "  </tbody>\n",
       "</table>\n",
       "</div>"
      ],
      "text/plain": [
       "      No  X1 transaction date  X2 house age  \\\n",
       "409  410             2013.000          13.7   \n",
       "410  411             2012.667           5.6   \n",
       "411  412             2013.250          18.8   \n",
       "412  413             2013.000           8.1   \n",
       "413  414             2013.500           6.5   \n",
       "\n",
       "     X3 distance to the nearest MRT station  X4 number of convenience stores  \\\n",
       "409                              4082.01500                                0   \n",
       "410                                90.45606                                9   \n",
       "411                               390.96960                                7   \n",
       "412                               104.81010                                5   \n",
       "413                                90.45606                                9   \n",
       "\n",
       "     X5 latitude  X6 longitude  Y house price of unit area  \n",
       "409     24.94155     121.50381                        15.4  \n",
       "410     24.97433     121.54310                        50.0  \n",
       "411     24.97923     121.53986                        40.6  \n",
       "412     24.96674     121.54067                        52.5  \n",
       "413     24.97433     121.54310                        63.9  "
      ]
     },
     "execution_count": 11,
     "metadata": {},
     "output_type": "execute_result"
    }
   ],
   "source": [
    "df.tail()"
   ]
  },
  {
   "cell_type": "code",
   "execution_count": 12,
   "metadata": {},
   "outputs": [
    {
     "data": {
      "text/plain": [
       "(414, 8)"
      ]
     },
     "execution_count": 12,
     "metadata": {},
     "output_type": "execute_result"
    }
   ],
   "source": [
    "#print the shape\n",
    "df.shape"
   ]
  },
  {
   "cell_type": "code",
   "execution_count": 13,
   "metadata": {},
   "outputs": [
    {
     "data": {
      "text/plain": [
       "<matplotlib.axes._subplots.AxesSubplot at 0x7f51f0c81320>"
      ]
     },
     "execution_count": 13,
     "metadata": {},
     "output_type": "execute_result"
    },
    {
     "data": {
      "image/png": "[encoded data removed]",
      "text/plain": [
       "<Figure size 1152x576 with 3 Axes>"
      ]
     },
     "metadata": {
      "needs_background": "light"
     },
     "output_type": "display_data"
    }
   ],
   "source": [
    "#visualisation des relations\n",
    "figs,axs = plt.subplots(1, 3, sharey = True)\n",
    "df.plot(kind = 'scatter', x = 'X2 house age', y = 'Y house price of unit area',ax=axs[0], figsize=(16, 8) )\n",
    "df.plot(kind = 'scatter', x = 'X3 distance to the nearest MRT station', y = 'Y house price of unit area', ax=axs[1] )\n",
    "df.plot(kind ='scatter', x = 'X4 number of convenience stores', y = 'Y house price of unit area', ax=axs[2])"
   ]
  },
  {
   "cell_type": "code",
   "execution_count": 14,
   "metadata": {},
   "outputs": [],
   "source": [
    "X = df[[\"X3 distance to the nearest MRT station\"]]\n",
    "y = df[[\"Y house price of unit area\"]]"
   ]
  },
  {
   "cell_type": "markdown",
   "metadata": {},
   "source": [
    "## Régression Linéaire avec statsmodels"
   ]
  },
  {
   "cell_type": "code",
   "execution_count": 15,
   "metadata": {},
   "outputs": [
    {
     "name": "stdout",
     "output_type": "stream",
     "text": [
      "                                OLS Regression Results                                \n",
      "======================================================================================\n",
      "Dep. Variable:     Y house price of unit area   R-squared:                       0.195\n",
      "Model:                                    OLS   Adj. R-squared:                  0.193\n",
      "Method:                         Least Squares   F-statistic:                     100.1\n",
      "Date:                        Mon, 10 Feb 2020   Prob (F-statistic):           2.97e-21\n",
      "Time:                                17:42:24   Log-Likelihood:                -2073.2\n",
      "No. Observations:                         414   AIC:                             4148.\n",
      "Df Residuals:                             413   BIC:                             4152.\n",
      "Df Model:                                   1                                         \n",
      "Covariance Type:                    nonrobust                                         \n",
      "==========================================================================================================\n",
      "                                             coef    std err          t      P>|t|      [0.025      0.975]\n",
      "----------------------------------------------------------------------------------------------------------\n",
      "X3 distance to the nearest MRT station     0.0107      0.001     10.007      0.000       0.009       0.013\n",
      "==============================================================================\n",
      "Omnibus:                       43.560   Durbin-Watson:                   0.889\n",
      "Prob(Omnibus):                  0.000   Jarque-Bera (JB):               55.646\n",
      "Skew:                          -0.802   Prob(JB):                     8.25e-13\n",
      "Kurtosis:                       3.808   Cond. No.                         1.00\n",
      "==============================================================================\n",
      "\n",
      "Warnings:\n",
      "[1] Standard Errors assume that the covariance matrix of the errors is correctly specified.\n"
     ]
    }
   ],
   "source": [
    "model = sm.OLS(y, X)\n",
    "results = model.fit()\n",
    "# Avec  statsmodel, on a une sortie qui ressemble beaucoup à celle de R\n",
    "print(results.summary())\n"
   ]
  },
  {
   "cell_type": "code",
   "execution_count": 16,
   "metadata": {
    "scrolled": true
   },
   "outputs": [
    {
     "name": "stdout",
     "output_type": "stream",
     "text": [
      "                                OLS Regression Results                                \n",
      "======================================================================================\n",
      "Dep. Variable:     Y house price of unit area   R-squared:                       0.541\n",
      "Model:                                    OLS   Adj. R-squared:                  0.538\n",
      "Method:                         Least Squares   F-statistic:                     161.1\n",
      "Date:                        Mon, 10 Feb 2020   Prob (F-statistic):           5.44e-69\n",
      "Time:                                17:42:24   Log-Likelihood:                -1506.5\n",
      "No. Observations:                         414   AIC:                             3021.\n",
      "Df Residuals:                             410   BIC:                             3037.\n",
      "Df Model:                                   3                                         \n",
      "Covariance Type:                    nonrobust                                         \n",
      "==========================================================================================================\n",
      "                                             coef    std err          t      P>|t|      [0.025      0.975]\n",
      "----------------------------------------------------------------------------------------------------------\n",
      "const                                     42.9773      1.385     31.041      0.000      40.256      45.699\n",
      "X3 distance to the nearest MRT station    -0.0054      0.000    -11.874      0.000      -0.006      -0.004\n",
      "X4 number of convenience stores            1.2974      0.194      6.678      0.000       0.916       1.679\n",
      "X2 house age                              -0.2529      0.040     -6.305      0.000      -0.332      -0.174\n",
      "==============================================================================\n",
      "Omnibus:                      222.427   Durbin-Watson:                   2.115\n",
      "Prob(Omnibus):                  0.000   Jarque-Bera (JB):             3065.900\n",
      "Skew:                           1.958   Prob(JB):                         0.00\n",
      "Kurtosis:                      15.744   Cond. No.                     5.09e+03\n",
      "==============================================================================\n",
      "\n",
      "Warnings:\n",
      "[1] Standard Errors assume that the covariance matrix of the errors is correctly specified.\n",
      "[2] The condition number is large, 5.09e+03. This might indicate that there are\n",
      "strong multicollinearity or other numerical problems.\n"
     ]
    }
   ],
   "source": [
    "X = df[[\"X3 distance to the nearest MRT station\",\"X4 number of convenience stores\", \"X2 house age\"]]\n",
    "X = sm.add_constant(X)\n",
    "y = df[[\"Y house price of unit area\"]]\n",
    "model = sm.OLS(y, X)\n",
    "results = model.fit()\n",
    "print(results.summary())"
   ]
  },
  {
   "cell_type": "code",
   "execution_count": 17,
   "metadata": {},
   "outputs": [],
   "source": [
    "#regression avec skitlearn\n",
    "from sklearn.linear_model import LinearRegression"
   ]
  },
  {
   "cell_type": "code",
   "execution_count": 18,
   "metadata": {},
   "outputs": [
    {
     "data": {
      "text/plain": [
       "array([[ 0.        , -0.00537913,  1.29744248, -0.25285583]])"
      ]
     },
     "execution_count": 18,
     "metadata": {},
     "output_type": "execute_result"
    }
   ],
   "source": [
    "reg = LinearRegression().fit(X,y)\n",
    "reg.coef_"
   ]
  },
  {
   "cell_type": "code",
   "execution_count": 19,
   "metadata": {},
   "outputs": [
    {
     "data": {
      "text/plain": [
       "array([42.97728621])"
      ]
     },
     "execution_count": 19,
     "metadata": {},
     "output_type": "execute_result"
    }
   ],
   "source": [
    "reg.intercept_"
   ]
  },
  {
   "cell_type": "code",
   "execution_count": 20,
   "metadata": {},
   "outputs": [
    {
     "data": {
      "text/plain": [
       "array([47.40375034, 48.07436724, 43.07852862, 43.07852862, 46.0993014 ,\n",
       "       33.37456896, 39.9821149 , 44.08191666,  6.60923209, 32.75153798,\n",
       "       33.29565051, 52.57470191, 43.52959687, 29.72425667, 38.56354461,\n",
       "       33.42958162, 49.18586792, 37.91190485, 47.10330967, 51.55432047,\n",
       "       33.48952502, 47.90269176, 33.24138404, 48.00383409, 35.56823014,\n",
       "       30.1600606 , 46.61579992, 45.34774298, 40.31347782, 45.24192333,\n",
       "       12.11632193, 40.43613045, 32.06339697, 44.84883773, 47.0607081 ,\n",
       "       17.518872  , 31.44652627, 33.92409478, 46.86915817, 43.81191859,\n",
       "       17.58075915, 16.85460972, 37.54215143, 39.30535235, 44.61470775,\n",
       "       41.47288038, 46.6715837 , 34.34547079, 12.08325432, 12.57896167,\n",
       "       39.92301878, 26.9016475 , 31.01463869, 43.45374013, 43.83720418,\n",
       "       28.71856653, 42.86387106, 50.87060583, 12.35139143, 44.29384237,\n",
       "       32.40254428, 48.02505662, 30.81616899, 44.63999333, 33.19601187,\n",
       "       42.55167827, 49.46776912, 46.75143695, 40.57800824, 43.28081328,\n",
       "       52.49884516, 34.44661312, 42.85533337, 17.53018799, 52.19060235,\n",
       "       33.84823803, 34.47639181, 29.93198243, 32.94144781, 32.11273218,\n",
       "       42.31371973, 40.9417701 , 47.90978931, 25.90894871, 46.17954507,\n",
       "       52.83091622, 35.98866205, 16.82932414, 33.16150007, 15.92509429,\n",
       "       42.80076971, 33.13467239, 29.6736855 , 28.74493306, 38.22115907,\n",
       "       46.87786486, 52.54941633, 36.36720545, 43.76134743, 52.54941633,\n",
       "       38.55256599, 40.14831428, 49.44248353, 49.64098155, 40.38253817,\n",
       "       49.18586792, 47.98826337, 33.87352361, 34.44536067, 34.30717647,\n",
       "       46.85257928, 42.58165511, 33.05711359, 44.90427509, 44.84571286,\n",
       "       36.39399478,  2.05504827, 16.96036262, 31.9533153 , 43.71077626,\n",
       "       43.45374013, 43.37788338, 37.97004065, 41.97983635, 48.05440525,\n",
       "       49.44248353, 34.078291  , 46.43880084, 39.64665156, 41.15806194,\n",
       "       42.9916244 , 34.30717647, 40.1417152 , 46.79688802, 41.31082812,\n",
       "       32.7695052 , 44.48102411, 45.60677863, 35.37907901, 43.55488246,\n",
       "       43.81191859, 37.18953729, 41.01204459, 43.37788338, 33.94938036,\n",
       "       46.50620246, 41.97983635, 49.91254805, 18.49416699, 43.56685242,\n",
       "       42.08876023, 51.32939855, 33.92409478, 47.09490616, 16.82932414,\n",
       "       17.53018799, 28.41146572, 39.70707654, 44.43045295, 39.85879003,\n",
       "       52.2046974 , 38.69908411, 17.05689438, 46.75143695, 41.97983635,\n",
       "       34.15896581, 49.18586792, 44.45071955, 39.71482248, 31.59350932,\n",
       "       12.5537311 , 46.489372  , 52.49884516, 35.56234209, 48.64811239,\n",
       "       36.69347983, 14.8596401 , 45.33599171, 38.69857519, 38.37410908,\n",
       "       12.24226441, 49.33768497, 31.90504612, 16.72104934, 25.34309379,\n",
       "       31.14480168, 29.8308401 , 24.16896164, 43.53519776, 16.98103763,\n",
       "       41.11438656, 38.19974834, 40.67451722, 44.74460689, 18.84436551,\n",
       "       43.14076475, 35.99913641, 43.97689601, 42.61450663, 46.32540965,\n",
       "       33.22129745, 43.12909979, 33.72807694, 43.96363209, 32.11273218,\n",
       "       35.8348165 , 48.29662262, 33.557201  , 34.05052269, 43.61270994,\n",
       "       46.04873024, 42.80076971, 31.40900252, 52.59998749, 32.70096681,\n",
       "       46.43795272, 31.53809367, 41.67758405, 43.37788338, 43.0984106 ,\n",
       "       44.24476974, 33.15995797, 45.89531857, 33.13467239, 40.29051045,\n",
       "       49.44248353, 16.84747726, 43.73850029, 22.9093121 , 28.91826554,\n",
       "       34.30717647, 16.96248869, 13.68550085, 42.82266303, 34.22076622,\n",
       "       47.44936674, 53.03050209, 35.74805025, 35.79862142, 33.89437353,\n",
       "       33.57828754, 47.24708208, 35.18935189, 43.96489532, 37.26539404,\n",
       "       44.12748207, 44.51820298, 31.81497261, 32.74421961,  5.80170939,\n",
       "       39.86284778, 28.72490314, 52.67584424, 28.54936355, 47.41138049,\n",
       "        6.65980325, 38.75827739, 37.51127175, 49.18586792, 33.99551586,\n",
       "       35.87997779, 30.46584149, 43.88777534, 34.33246206, 41.1608386 ,\n",
       "       39.80821887, 32.77682356, 38.09358301, 43.01446032, 34.02080144,\n",
       "       40.18521336, 46.45183756, 43.52959687, 40.02188637, 42.98637818,\n",
       "       51.55432047, 42.15462702, 29.75498335, 49.64098155, 37.85167627,\n",
       "       49.18883662, 51.37996972, 35.93809088, 26.45797318, 46.20483065,\n",
       "       35.39485833, 52.67584424, 42.12934144, 44.82335742, 44.39348699,\n",
       "       30.80699438, 50.89589142, 42.91113612, 46.81168463, 42.2817024 ,\n",
       "       30.54334045, 38.85028869, 36.29223353, 16.79690609, 46.90211652,\n",
       "       46.69445874, 30.8847645 , 30.38998475, 30.92764827, 33.06558587,\n",
       "       43.81191859, 39.71925871, 23.80574365, 43.76134743, 28.51260805,\n",
       "       32.58474144, 39.88834669, 43.98976237, 46.80200811, 46.71744468,\n",
       "       32.17965782, 47.34822441, 37.57838953, 52.11474561, 39.24891507,\n",
       "       16.9856482 , 38.70427949, 40.00439693, 42.46985616, 33.22428938,\n",
       "       41.47288038, 50.71889234, 41.91080058, 34.79281363, 16.96036262,\n",
       "       28.66344633, 12.19217868, 32.18574881, 46.92843603, 36.4279312 ,\n",
       "       42.04297423, 34.2385181 , 38.31800524, 45.30049399, 47.259667  ,\n",
       "       33.0241807 , 38.2503195 , 52.72641541, 41.85617064, 17.63294526,\n",
       "       41.97983635, 33.02200472,  4.97513134, 48.2020557 , 46.92843603,\n",
       "       43.47902571, 34.13036986, 27.82810447, 34.28189089, 33.87352361,\n",
       "       46.43880084, 40.53291123, 52.83091622, 49.44248353, 28.60300797,\n",
       "       47.16314431, 41.37595665, 38.63945148, 47.19305667, 39.83003742,\n",
       "       31.62811445, 30.99343725, 31.94456886, 37.78547694, 30.00783918,\n",
       "       43.88777534, 46.74467994, 42.63979222, 42.80076971, 45.99815907,\n",
       "       31.26134721, 32.61818677, 52.10355507, 40.76297954, 49.18586792,\n",
       "       44.34291583, 51.91843492, 19.86975396, 38.08649659, 17.0316088 ,\n",
       "       50.87859249, 41.97983635, 31.45805423, 33.42388911, 42.35682219,\n",
       "       44.32819976, 32.27286125, 37.57772878, 38.69002264, 13.78209087,\n",
       "       40.04944669, 29.95231701, 38.58883019, 32.61818677, 40.14831428,\n",
       "       40.09114404, 33.24814105, 40.05496809, 45.96991644, 43.76134743,\n",
       "       44.24162066, 49.5771757 , 28.7041503 , 30.48817184, 17.55547357,\n",
       "       52.75170099, 45.20261784, 46.85257928, 52.52413075])"
      ]
     },
     "execution_count": 20,
     "metadata": {},
     "output_type": "execute_result"
    }
   ],
   "source": [
    "#tprediction\n",
    "results.predict()"
   ]
  },
  {
   "cell_type": "code",
   "execution_count": null,
   "metadata": {},
   "outputs": [],
   "source": []
  }
 ],
 "metadata": {
  "kernelspec": {
   "display_name": "Python 3",
   "language": "python",
   "name": "python3"
  },
  "language_info": {
   "codemirror_mode": {
    "name": "ipython",
    "version": 3
   },
   "file_extension": ".py",
   "mimetype": "text/x-python",
   "name": "python",
   "nbconvert_exporter": "python",
   "pygments_lexer": "ipython3",
   "version": "3.7.1"
  }
 },
 "nbformat": 4,
 "nbformat_minor": 2
}
