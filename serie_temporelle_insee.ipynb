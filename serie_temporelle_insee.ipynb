{
 "cells": [
  {
   "cell_type": "markdown",
   "metadata": {},
   "source": [
    "## Importation des librairies"
   ]
  },
  {
   "cell_type": "code",
   "execution_count": 1,
   "metadata": {},
   "outputs": [],
   "source": [
    "import pandas as pd\n",
    "import statsmodels"
   ]
  },
  {
   "cell_type": "markdown",
   "metadata": {},
   "source": [
    "## Données de l'insee chiffres d'affaires des entreprises"
   ]
  },
  {
   "cell_type": "code",
   "execution_count": 2,
   "metadata": {},
   "outputs": [],
   "source": [
    "data = pd.read_csv(\"valeurs_mensuelles.csv\", sep=\";\",skiprows= 2, index_col = 0, parse_dates = True)"
   ]
  },
  {
   "cell_type": "code",
   "execution_count": 3,
   "metadata": {},
   "outputs": [
    {
     "data": {
      "text/plain": [
       "(251, 2)"
      ]
     },
     "execution_count": 3,
     "metadata": {},
     "output_type": "execute_result"
    }
   ],
   "source": [
    "data.shape"
   ]
  },
  {
   "cell_type": "markdown",
   "metadata": {},
   "source": [
    "## Data cleaning"
   ]
  },
  {
   "cell_type": "code",
   "execution_count": 4,
   "metadata": {},
   "outputs": [
    {
     "data": {
      "text/html": [
       "<div>\n",
       "<style scoped>\n",
       "    .dataframe tbody tr th:only-of-type {\n",
       "        vertical-align: middle;\n",
       "    }\n",
       "\n",
       "    .dataframe tbody tr th {\n",
       "        vertical-align: top;\n",
       "    }\n",
       "\n",
       "    .dataframe thead th {\n",
       "        text-align: right;\n",
       "    }\n",
       "</style>\n",
       "<table border=\"1\" class=\"dataframe\">\n",
       "  <thead>\n",
       "    <tr style=\"text-align: right;\">\n",
       "      <th></th>\n",
       "      <th>Unnamed: 1</th>\n",
       "      <th>Unnamed: 2</th>\n",
       "    </tr>\n",
       "    <tr>\n",
       "      <th>Période</th>\n",
       "      <th></th>\n",
       "      <th></th>\n",
       "    </tr>\n",
       "  </thead>\n",
       "  <tbody>\n",
       "    <tr>\n",
       "      <th>2019-11-01</th>\n",
       "      <td>115.90</td>\n",
       "      <td>A</td>\n",
       "    </tr>\n",
       "    <tr>\n",
       "      <th>2019-10-01</th>\n",
       "      <td>123.81</td>\n",
       "      <td>A</td>\n",
       "    </tr>\n",
       "    <tr>\n",
       "      <th>2019-09-01</th>\n",
       "      <td>114.43</td>\n",
       "      <td>A</td>\n",
       "    </tr>\n",
       "    <tr>\n",
       "      <th>2019-08-01</th>\n",
       "      <td>114.47</td>\n",
       "      <td>A</td>\n",
       "    </tr>\n",
       "    <tr>\n",
       "      <th>2019-07-01</th>\n",
       "      <td>109.02</td>\n",
       "      <td>A</td>\n",
       "    </tr>\n",
       "  </tbody>\n",
       "</table>\n",
       "</div>"
      ],
      "text/plain": [
       "            Unnamed: 1 Unnamed: 2\n",
       "Période                          \n",
       "2019-11-01      115.90          A\n",
       "2019-10-01      123.81          A\n",
       "2019-09-01      114.43          A\n",
       "2019-08-01      114.47          A\n",
       "2019-07-01      109.02          A"
      ]
     },
     "execution_count": 4,
     "metadata": {},
     "output_type": "execute_result"
    }
   ],
   "source": [
    "data.head()"
   ]
  },
  {
   "cell_type": "code",
   "execution_count": 5,
   "metadata": {},
   "outputs": [
    {
     "data": {
      "text/html": [
       "<div>\n",
       "<style scoped>\n",
       "    .dataframe tbody tr th:only-of-type {\n",
       "        vertical-align: middle;\n",
       "    }\n",
       "\n",
       "    .dataframe tbody tr th {\n",
       "        vertical-align: top;\n",
       "    }\n",
       "\n",
       "    .dataframe thead th {\n",
       "        text-align: right;\n",
       "    }\n",
       "</style>\n",
       "<table border=\"1\" class=\"dataframe\">\n",
       "  <thead>\n",
       "    <tr style=\"text-align: right;\">\n",
       "      <th></th>\n",
       "      <th>Unnamed: 1</th>\n",
       "      <th>Unnamed: 2</th>\n",
       "    </tr>\n",
       "    <tr>\n",
       "      <th>Période</th>\n",
       "      <th></th>\n",
       "      <th></th>\n",
       "    </tr>\n",
       "  </thead>\n",
       "  <tbody>\n",
       "    <tr>\n",
       "      <th>1999-05-01</th>\n",
       "      <td>60.21</td>\n",
       "      <td>A</td>\n",
       "    </tr>\n",
       "    <tr>\n",
       "      <th>1999-04-01</th>\n",
       "      <td>63.06</td>\n",
       "      <td>A</td>\n",
       "    </tr>\n",
       "    <tr>\n",
       "      <th>1999-03-01</th>\n",
       "      <td>66.56</td>\n",
       "      <td>A</td>\n",
       "    </tr>\n",
       "    <tr>\n",
       "      <th>1999-02-01</th>\n",
       "      <td>57.36</td>\n",
       "      <td>A</td>\n",
       "    </tr>\n",
       "    <tr>\n",
       "      <th>1999-01-01</th>\n",
       "      <td>57.57</td>\n",
       "      <td>A</td>\n",
       "    </tr>\n",
       "  </tbody>\n",
       "</table>\n",
       "</div>"
      ],
      "text/plain": [
       "            Unnamed: 1 Unnamed: 2\n",
       "Période                          \n",
       "1999-05-01       60.21          A\n",
       "1999-04-01       63.06          A\n",
       "1999-03-01       66.56          A\n",
       "1999-02-01       57.36          A\n",
       "1999-01-01       57.57          A"
      ]
     },
     "execution_count": 5,
     "metadata": {},
     "output_type": "execute_result"
    }
   ],
   "source": [
    "data.tail()"
   ]
  },
  {
   "cell_type": "code",
   "execution_count": 6,
   "metadata": {},
   "outputs": [],
   "source": [
    "data = data.drop(\"Unnamed: 2\", axis = 1)\n"
   ]
  },
  {
   "cell_type": "code",
   "execution_count": 7,
   "metadata": {},
   "outputs": [
    {
     "data": {
      "text/html": [
       "<div>\n",
       "<style scoped>\n",
       "    .dataframe tbody tr th:only-of-type {\n",
       "        vertical-align: middle;\n",
       "    }\n",
       "\n",
       "    .dataframe tbody tr th {\n",
       "        vertical-align: top;\n",
       "    }\n",
       "\n",
       "    .dataframe thead th {\n",
       "        text-align: right;\n",
       "    }\n",
       "</style>\n",
       "<table border=\"1\" class=\"dataframe\">\n",
       "  <thead>\n",
       "    <tr style=\"text-align: right;\">\n",
       "      <th></th>\n",
       "      <th>valeur</th>\n",
       "    </tr>\n",
       "    <tr>\n",
       "      <th>Période</th>\n",
       "      <th></th>\n",
       "    </tr>\n",
       "  </thead>\n",
       "  <tbody>\n",
       "    <tr>\n",
       "      <th>2019-11-01</th>\n",
       "      <td>115.90</td>\n",
       "    </tr>\n",
       "    <tr>\n",
       "      <th>2019-10-01</th>\n",
       "      <td>123.81</td>\n",
       "    </tr>\n",
       "    <tr>\n",
       "      <th>2019-09-01</th>\n",
       "      <td>114.43</td>\n",
       "    </tr>\n",
       "    <tr>\n",
       "      <th>2019-08-01</th>\n",
       "      <td>114.47</td>\n",
       "    </tr>\n",
       "    <tr>\n",
       "      <th>2019-07-01</th>\n",
       "      <td>109.02</td>\n",
       "    </tr>\n",
       "  </tbody>\n",
       "</table>\n",
       "</div>"
      ],
      "text/plain": [
       "            valeur\n",
       "Période           \n",
       "2019-11-01  115.90\n",
       "2019-10-01  123.81\n",
       "2019-09-01  114.43\n",
       "2019-08-01  114.47\n",
       "2019-07-01  109.02"
      ]
     },
     "execution_count": 7,
     "metadata": {},
     "output_type": "execute_result"
    }
   ],
   "source": [
    "data = data.rename(columns= {'Unnamed: 1':'valeur'})\n",
    "data.head()"
   ]
  },
  {
   "cell_type": "markdown",
   "metadata": {},
   "source": [
    "## Méthode 1 : tester la stationarité de la série avec statsmodels"
   ]
  },
  {
   "cell_type": "code",
   "execution_count": 8,
   "metadata": {},
   "outputs": [],
   "source": [
    "#rendre la serie stationnaire en enlèvant la tendance\n",
    "from statsmodels.tsa.tsatools import detrend\n",
    "notrend = detrend(data['valeur'])\n",
    "data[\"notrend\"]= notrend"
   ]
  },
  {
   "cell_type": "code",
   "execution_count": 9,
   "metadata": {},
   "outputs": [
    {
     "data": {
      "text/html": [
       "<div>\n",
       "<style scoped>\n",
       "    .dataframe tbody tr th:only-of-type {\n",
       "        vertical-align: middle;\n",
       "    }\n",
       "\n",
       "    .dataframe tbody tr th {\n",
       "        vertical-align: top;\n",
       "    }\n",
       "\n",
       "    .dataframe thead th {\n",
       "        text-align: right;\n",
       "    }\n",
       "</style>\n",
       "<table border=\"1\" class=\"dataframe\">\n",
       "  <thead>\n",
       "    <tr style=\"text-align: right;\">\n",
       "      <th></th>\n",
       "      <th>valeur</th>\n",
       "      <th>notrend</th>\n",
       "    </tr>\n",
       "    <tr>\n",
       "      <th>Période</th>\n",
       "      <th></th>\n",
       "      <th></th>\n",
       "    </tr>\n",
       "  </thead>\n",
       "  <tbody>\n",
       "    <tr>\n",
       "      <th>2019-11-01</th>\n",
       "      <td>115.90</td>\n",
       "      <td>2.059811</td>\n",
       "    </tr>\n",
       "    <tr>\n",
       "      <th>2019-10-01</th>\n",
       "      <td>123.81</td>\n",
       "      <td>10.154529</td>\n",
       "    </tr>\n",
       "    <tr>\n",
       "      <th>2019-09-01</th>\n",
       "      <td>114.43</td>\n",
       "      <td>0.959246</td>\n",
       "    </tr>\n",
       "    <tr>\n",
       "      <th>2019-08-01</th>\n",
       "      <td>114.47</td>\n",
       "      <td>1.183963</td>\n",
       "    </tr>\n",
       "    <tr>\n",
       "      <th>2019-07-01</th>\n",
       "      <td>109.02</td>\n",
       "      <td>-4.081319</td>\n",
       "    </tr>\n",
       "  </tbody>\n",
       "</table>\n",
       "</div>"
      ],
      "text/plain": [
       "            valeur    notrend\n",
       "Période                      \n",
       "2019-11-01  115.90   2.059811\n",
       "2019-10-01  123.81  10.154529\n",
       "2019-09-01  114.43   0.959246\n",
       "2019-08-01  114.47   1.183963\n",
       "2019-07-01  109.02  -4.081319"
      ]
     },
     "execution_count": 9,
     "metadata": {},
     "output_type": "execute_result"
    }
   ],
   "source": [
    "data.head()"
   ]
  },
  {
   "cell_type": "code",
   "execution_count": 10,
   "metadata": {},
   "outputs": [
    {
     "data": {
      "text/plain": [
       "<matplotlib.axes._subplots.AxesSubplot at 0x7fef232fbcc0>"
      ]
     },
     "execution_count": 10,
     "metadata": {},
     "output_type": "execute_result"
    }
   ],
   "source": [
    "#visualisation de la série\n",
    "import matplotlib.pyplot as plt\n",
    "data.plot(y= [\"valeur\", \"notrend\"], figsize = (14,4))"
   ]
  },
  {
   "cell_type": "code",
   "execution_count": 11,
   "metadata": {},
   "outputs": [
    {
     "name": "stdout",
     "output_type": "stream",
     "text": [
      "Période\n",
      "2019-11-01           NaN\n",
      "2019-10-01           NaN\n",
      "2019-09-01           NaN\n",
      "2019-08-01           NaN\n",
      "2019-07-01           NaN\n",
      "2019-06-01           NaN\n",
      "2019-05-01    114.611667\n",
      "2019-04-01    114.515000\n",
      "2019-03-01    114.186250\n",
      "2019-02-01    113.873333\n",
      "2019-01-01    113.536250\n",
      "2018-12-01    113.334583\n",
      "2018-11-01    113.166250\n",
      "2018-10-01    112.629167\n",
      "2018-09-01    112.257500\n",
      "2018-08-01    112.021250\n",
      "2018-07-01    111.669583\n",
      "2018-06-01    111.497500\n",
      "2018-05-01    111.325000\n",
      "2018-04-01    110.735000\n",
      "2018-03-01    110.281250\n",
      "2018-02-01    109.990833\n",
      "2018-01-01    109.438750\n",
      "2017-12-01    108.885417\n",
      "2017-11-01    108.452917\n",
      "2017-10-01    108.004583\n",
      "2017-09-01    107.621667\n",
      "2017-08-01    107.346667\n",
      "2017-07-01    106.957083\n",
      "2017-06-01    106.575833\n",
      "                 ...    \n",
      "2001-06-01     73.098750\n",
      "2001-05-01     72.936667\n",
      "2001-04-01     72.652917\n",
      "2001-03-01     72.387500\n",
      "2001-02-01     72.126667\n",
      "2001-01-01     71.711250\n",
      "2000-12-01     71.242500\n",
      "2000-11-01     70.878750\n",
      "2000-10-01     70.505417\n",
      "2000-09-01     70.101667\n",
      "2000-08-01     69.785000\n",
      "2000-07-01     69.337917\n",
      "2000-06-01     68.922500\n",
      "2000-05-01     68.516667\n",
      "2000-04-01     67.982083\n",
      "2000-03-01     67.545000\n",
      "2000-02-01     67.125417\n",
      "2000-01-01     66.797917\n",
      "1999-12-01     66.579583\n",
      "1999-11-01     66.092917\n",
      "1999-10-01     65.626250\n",
      "1999-09-01     65.309583\n",
      "1999-08-01     64.859583\n",
      "1999-07-01     64.457083\n",
      "1999-06-01           NaN\n",
      "1999-05-01           NaN\n",
      "1999-04-01           NaN\n",
      "1999-03-01           NaN\n",
      "1999-02-01           NaN\n",
      "1999-01-01           NaN\n",
      "Name: valeur, Length: 251, dtype: float64\n",
      "Période\n",
      "2019-11-01     0.555686\n",
      "2019-10-01     4.925019\n",
      "2019-09-01     0.758228\n",
      "2019-08-01    -3.405835\n",
      "2019-07-01    -5.494897\n",
      "2019-06-01     0.980536\n",
      "2019-05-01    -2.690272\n",
      "2019-04-01     0.472436\n",
      "2019-03-01     4.038665\n",
      "2019-02-01    -7.282689\n",
      "2019-01-01    -4.770210\n",
      "2018-12-01    11.913332\n",
      "2018-11-01     0.555686\n",
      "2018-10-01     4.925019\n",
      "2018-09-01     0.758228\n",
      "2018-08-01    -3.405835\n",
      "2018-07-01    -5.494897\n",
      "2018-06-01     0.980536\n",
      "2018-05-01    -2.690272\n",
      "2018-04-01     0.472436\n",
      "2018-03-01     4.038665\n",
      "2018-02-01    -7.282689\n",
      "2018-01-01    -4.770210\n",
      "2017-12-01    11.913332\n",
      "2017-11-01     0.555686\n",
      "2017-10-01     4.925019\n",
      "2017-09-01     0.758228\n",
      "2017-08-01    -3.405835\n",
      "2017-07-01    -5.494897\n",
      "2017-06-01     0.980536\n",
      "                ...    \n",
      "2001-06-01     0.980536\n",
      "2001-05-01    -2.690272\n",
      "2001-04-01     0.472436\n",
      "2001-03-01     4.038665\n",
      "2001-02-01    -7.282689\n",
      "2001-01-01    -4.770210\n",
      "2000-12-01    11.913332\n",
      "2000-11-01     0.555686\n",
      "2000-10-01     4.925019\n",
      "2000-09-01     0.758228\n",
      "2000-08-01    -3.405835\n",
      "2000-07-01    -5.494897\n",
      "2000-06-01     0.980536\n",
      "2000-05-01    -2.690272\n",
      "2000-04-01     0.472436\n",
      "2000-03-01     4.038665\n",
      "2000-02-01    -7.282689\n",
      "2000-01-01    -4.770210\n",
      "1999-12-01    11.913332\n",
      "1999-11-01     0.555686\n",
      "1999-10-01     4.925019\n",
      "1999-09-01     0.758228\n",
      "1999-08-01    -3.405835\n",
      "1999-07-01    -5.494897\n",
      "1999-06-01     0.980536\n",
      "1999-05-01    -2.690272\n",
      "1999-04-01     0.472436\n",
      "1999-03-01     4.038665\n",
      "1999-02-01    -7.282689\n",
      "1999-01-01    -4.770210\n",
      "Name: valeur, Length: 251, dtype: float64\n",
      "Période\n",
      "2019-11-01         NaN\n",
      "2019-10-01         NaN\n",
      "2019-09-01         NaN\n",
      "2019-08-01         NaN\n",
      "2019-07-01         NaN\n",
      "2019-06-01         NaN\n",
      "2019-05-01    2.538606\n",
      "2019-04-01    1.502564\n",
      "2019-03-01   -0.834915\n",
      "2019-02-01   -2.890644\n",
      "2019-01-01   -0.366040\n",
      "2018-12-01   -3.477915\n",
      "2018-11-01    2.378064\n",
      "2018-10-01    3.735814\n",
      "2018-09-01   -3.955728\n",
      "2018-08-01    3.714585\n",
      "2018-07-01   -3.104686\n",
      "2018-06-01    4.031964\n",
      "2018-05-01    0.675272\n",
      "2018-04-01   -2.457436\n",
      "2018-03-01    1.890085\n",
      "2018-02-01   -3.498144\n",
      "2018-01-01   -0.218540\n",
      "2017-12-01    0.791251\n",
      "2017-11-01    3.131397\n",
      "2017-10-01   -1.839603\n",
      "2017-09-01   -0.009894\n",
      "2017-08-01    2.109168\n",
      "2017-07-01   -5.362186\n",
      "2017-06-01    2.643631\n",
      "                ...   \n",
      "2001-06-01   -1.969286\n",
      "2001-05-01    1.663606\n",
      "2001-04-01   -1.605353\n",
      "2001-03-01   -1.036165\n",
      "2001-02-01    2.086022\n",
      "2001-01-01    1.448960\n",
      "2000-12-01    0.054168\n",
      "2000-11-01    2.055564\n",
      "2000-10-01   -0.880436\n",
      "2000-09-01    0.010106\n",
      "2000-08-01   -0.589165\n",
      "2000-07-01   -0.273019\n",
      "2000-06-01   -3.433036\n",
      "2000-05-01    2.993606\n",
      "2000-04-01   -2.804519\n",
      "2000-03-01   -0.013665\n",
      "2000-02-01    3.307272\n",
      "2000-01-01   -0.587707\n",
      "1999-12-01    1.697085\n",
      "1999-11-01    0.121397\n",
      "1999-10-01   -2.111269\n",
      "1999-09-01    0.422189\n",
      "1999-08-01   -1.353749\n",
      "1999-07-01    2.437814\n",
      "1999-06-01         NaN\n",
      "1999-05-01         NaN\n",
      "1999-04-01         NaN\n",
      "1999-03-01         NaN\n",
      "1999-02-01         NaN\n",
      "1999-01-01         NaN\n",
      "Name: valeur, Length: 251, dtype: float64\n",
      "Période\n",
      "2019-11-01    115.90\n",
      "2019-10-01    123.81\n",
      "2019-09-01    114.43\n",
      "2019-08-01    114.47\n",
      "2019-07-01    109.02\n",
      "2019-06-01    115.40\n",
      "2019-05-01    114.46\n",
      "2019-04-01    116.49\n",
      "2019-03-01    117.39\n",
      "2019-02-01    103.70\n",
      "2019-01-01    108.40\n",
      "2018-12-01    121.77\n",
      "2018-11-01    116.10\n",
      "2018-10-01    121.29\n",
      "2018-09-01    109.06\n",
      "2018-08-01    112.33\n",
      "2018-07-01    103.07\n",
      "2018-06-01    116.51\n",
      "2018-05-01    109.31\n",
      "2018-04-01    108.75\n",
      "2018-03-01    116.21\n",
      "2018-02-01     99.21\n",
      "2018-01-01    104.45\n",
      "2017-12-01    121.59\n",
      "2017-11-01    112.14\n",
      "2017-10-01    111.09\n",
      "2017-09-01    108.37\n",
      "2017-08-01    106.05\n",
      "2017-07-01     96.10\n",
      "2017-06-01    110.20\n",
      "               ...  \n",
      "2001-06-01     72.11\n",
      "2001-05-01     71.91\n",
      "2001-04-01     71.52\n",
      "2001-03-01     75.39\n",
      "2001-02-01     66.93\n",
      "2001-01-01     68.39\n",
      "2000-12-01     83.21\n",
      "2000-11-01     73.49\n",
      "2000-10-01     74.55\n",
      "2000-09-01     70.87\n",
      "2000-08-01     65.79\n",
      "2000-07-01     63.57\n",
      "2000-06-01     66.47\n",
      "2000-05-01     68.82\n",
      "2000-04-01     65.65\n",
      "2000-03-01     71.57\n",
      "2000-02-01     63.15\n",
      "2000-01-01     61.44\n",
      "1999-12-01     80.19\n",
      "1999-11-01     66.77\n",
      "1999-10-01     68.44\n",
      "1999-09-01     66.49\n",
      "1999-08-01     60.10\n",
      "1999-07-01     61.40\n",
      "1999-06-01     63.40\n",
      "1999-05-01     60.21\n",
      "1999-04-01     63.06\n",
      "1999-03-01     66.56\n",
      "1999-02-01     57.36\n",
      "1999-01-01     57.57\n",
      "Name: valeur, Length: 251, dtype: float64\n"
     ]
    }
   ],
   "source": [
    "#utiliser seasonal_decompose pour analyser la serie temporelle et decomposer la tendance la saisonalité et le résidu\n",
    "from statsmodels.tsa.seasonal import seasonal_decompose\n",
    "data_decompose = seasonal_decompose(data['valeur'])\n",
    "print(data_decompose.trend)\n",
    "print(data_decompose.seasonal)\n",
    "print(data_decompose.resid)\n",
    "print(data_decompose.observed)"
   ]
  },
  {
   "cell_type": "code",
   "execution_count": 12,
   "metadata": {},
   "outputs": [
    {
     "data": {
      "image/png": "[encoded data removed]",
      "text/plain": [
       "<Figure size 432x288 with 4 Axes>"
      ]
     },
     "metadata": {
      "needs_background": "light"
     },
     "output_type": "display_data"
    }
   ],
   "source": [
    "data_decompose.plot()\n",
    "plt.show()"
   ]
  },
  {
   "cell_type": "code",
   "execution_count": 13,
   "metadata": {},
   "outputs": [
    {
     "data": {
      "text/html": [
       "<div>\n",
       "<style scoped>\n",
       "    .dataframe tbody tr th:only-of-type {\n",
       "        vertical-align: middle;\n",
       "    }\n",
       "\n",
       "    .dataframe tbody tr th {\n",
       "        vertical-align: top;\n",
       "    }\n",
       "\n",
       "    .dataframe thead th {\n",
       "        text-align: right;\n",
       "    }\n",
       "</style>\n",
       "<table border=\"1\" class=\"dataframe\">\n",
       "  <thead>\n",
       "    <tr style=\"text-align: right;\">\n",
       "      <th></th>\n",
       "      <th>valeur</th>\n",
       "      <th>notrend</th>\n",
       "      <th>trend</th>\n",
       "      <th>seasonal</th>\n",
       "      <th>resid</th>\n",
       "    </tr>\n",
       "    <tr>\n",
       "      <th>Période</th>\n",
       "      <th></th>\n",
       "      <th></th>\n",
       "      <th></th>\n",
       "      <th></th>\n",
       "      <th></th>\n",
       "    </tr>\n",
       "  </thead>\n",
       "  <tbody>\n",
       "    <tr>\n",
       "      <th>2019-11-01</th>\n",
       "      <td>115.90</td>\n",
       "      <td>2.059811</td>\n",
       "      <td>NaN</td>\n",
       "      <td>0.555686</td>\n",
       "      <td>NaN</td>\n",
       "    </tr>\n",
       "    <tr>\n",
       "      <th>2019-10-01</th>\n",
       "      <td>123.81</td>\n",
       "      <td>10.154529</td>\n",
       "      <td>NaN</td>\n",
       "      <td>4.925019</td>\n",
       "      <td>NaN</td>\n",
       "    </tr>\n",
       "    <tr>\n",
       "      <th>2019-09-01</th>\n",
       "      <td>114.43</td>\n",
       "      <td>0.959246</td>\n",
       "      <td>NaN</td>\n",
       "      <td>0.758228</td>\n",
       "      <td>NaN</td>\n",
       "    </tr>\n",
       "    <tr>\n",
       "      <th>2019-08-01</th>\n",
       "      <td>114.47</td>\n",
       "      <td>1.183963</td>\n",
       "      <td>NaN</td>\n",
       "      <td>-3.405835</td>\n",
       "      <td>NaN</td>\n",
       "    </tr>\n",
       "    <tr>\n",
       "      <th>2019-07-01</th>\n",
       "      <td>109.02</td>\n",
       "      <td>-4.081319</td>\n",
       "      <td>NaN</td>\n",
       "      <td>-5.494897</td>\n",
       "      <td>NaN</td>\n",
       "    </tr>\n",
       "    <tr>\n",
       "      <th>2019-06-01</th>\n",
       "      <td>115.40</td>\n",
       "      <td>2.483398</td>\n",
       "      <td>NaN</td>\n",
       "      <td>0.980536</td>\n",
       "      <td>NaN</td>\n",
       "    </tr>\n",
       "    <tr>\n",
       "      <th>2019-05-01</th>\n",
       "      <td>114.46</td>\n",
       "      <td>1.728115</td>\n",
       "      <td>114.611667</td>\n",
       "      <td>-2.690272</td>\n",
       "      <td>2.538606</td>\n",
       "    </tr>\n",
       "    <tr>\n",
       "      <th>2019-04-01</th>\n",
       "      <td>116.49</td>\n",
       "      <td>3.942833</td>\n",
       "      <td>114.515000</td>\n",
       "      <td>0.472436</td>\n",
       "      <td>1.502564</td>\n",
       "    </tr>\n",
       "    <tr>\n",
       "      <th>2019-03-01</th>\n",
       "      <td>117.39</td>\n",
       "      <td>5.027550</td>\n",
       "      <td>114.186250</td>\n",
       "      <td>4.038665</td>\n",
       "      <td>-0.834915</td>\n",
       "    </tr>\n",
       "    <tr>\n",
       "      <th>2019-02-01</th>\n",
       "      <td>103.70</td>\n",
       "      <td>-8.477732</td>\n",
       "      <td>113.873333</td>\n",
       "      <td>-7.282689</td>\n",
       "      <td>-2.890644</td>\n",
       "    </tr>\n",
       "  </tbody>\n",
       "</table>\n",
       "</div>"
      ],
      "text/plain": [
       "            valeur    notrend       trend  seasonal     resid\n",
       "Période                                                      \n",
       "2019-11-01  115.90   2.059811         NaN  0.555686       NaN\n",
       "2019-10-01  123.81  10.154529         NaN  4.925019       NaN\n",
       "2019-09-01  114.43   0.959246         NaN  0.758228       NaN\n",
       "2019-08-01  114.47   1.183963         NaN -3.405835       NaN\n",
       "2019-07-01  109.02  -4.081319         NaN -5.494897       NaN\n",
       "2019-06-01  115.40   2.483398         NaN  0.980536       NaN\n",
       "2019-05-01  114.46   1.728115  114.611667 -2.690272  2.538606\n",
       "2019-04-01  116.49   3.942833  114.515000  0.472436  1.502564\n",
       "2019-03-01  117.39   5.027550  114.186250  4.038665 -0.834915\n",
       "2019-02-01  103.70  -8.477732  113.873333 -7.282689 -2.890644"
      ]
     },
     "execution_count": 13,
     "metadata": {},
     "output_type": "execute_result"
    }
   ],
   "source": [
    "data['trend']= data_decompose.trend\n",
    "data['seasonal'] = data_decompose.seasonal\n",
    "data['resid'] = data_decompose.resid\n",
    "\n",
    "data.head(10)"
   ]
  },
  {
   "cell_type": "code",
   "execution_count": 14,
   "metadata": {},
   "outputs": [
    {
     "name": "stdout",
     "output_type": "stream",
     "text": [
      "ADF Statistic: -3.466618\n",
      "p-value: 0.008887\n",
      "Critical Values:\n",
      "\t1%: -3.458\n",
      "\t5%: -2.874\n",
      "\t10%: -2.573\n"
     ]
    }
   ],
   "source": [
    "#test de dickeyfuller\n",
    "from statsmodels.tsa.stattools import adfuller\n",
    "X = data.notrend\n",
    "result = adfuller(X)\n",
    "print('ADF Statistic: %f' % result[0])\n",
    "print('p-value: %f' % result[1])\n",
    "print('Critical Values:')\n",
    "for key, value in result[4].items():\n",
    "\tprint('\\t%s: %.3f' % (key, value))"
   ]
  },
  {
   "cell_type": "markdown",
   "metadata": {},
   "source": [
    "## Méthode 2 faire les transformations à la main pour obtenir une série stationnaire"
   ]
  },
  {
   "cell_type": "code",
   "execution_count": 15,
   "metadata": {},
   "outputs": [
    {
     "data": {
      "text/html": [
       "<div>\n",
       "<style scoped>\n",
       "    .dataframe tbody tr th:only-of-type {\n",
       "        vertical-align: middle;\n",
       "    }\n",
       "\n",
       "    .dataframe tbody tr th {\n",
       "        vertical-align: top;\n",
       "    }\n",
       "\n",
       "    .dataframe thead th {\n",
       "        text-align: right;\n",
       "    }\n",
       "</style>\n",
       "<table border=\"1\" class=\"dataframe\">\n",
       "  <thead>\n",
       "    <tr style=\"text-align: right;\">\n",
       "      <th></th>\n",
       "      <th>valeur</th>\n",
       "    </tr>\n",
       "    <tr>\n",
       "      <th>Période</th>\n",
       "      <th></th>\n",
       "    </tr>\n",
       "  </thead>\n",
       "  <tbody>\n",
       "    <tr>\n",
       "      <th>2019-11-01</th>\n",
       "      <td>115.90</td>\n",
       "    </tr>\n",
       "    <tr>\n",
       "      <th>2019-10-01</th>\n",
       "      <td>123.81</td>\n",
       "    </tr>\n",
       "    <tr>\n",
       "      <th>2019-09-01</th>\n",
       "      <td>114.43</td>\n",
       "    </tr>\n",
       "    <tr>\n",
       "      <th>2019-08-01</th>\n",
       "      <td>114.47</td>\n",
       "    </tr>\n",
       "    <tr>\n",
       "      <th>2019-07-01</th>\n",
       "      <td>109.02</td>\n",
       "    </tr>\n",
       "  </tbody>\n",
       "</table>\n",
       "</div>"
      ],
      "text/plain": [
       "            valeur\n",
       "Période           \n",
       "2019-11-01  115.90\n",
       "2019-10-01  123.81\n",
       "2019-09-01  114.43\n",
       "2019-08-01  114.47\n",
       "2019-07-01  109.02"
      ]
     },
     "execution_count": 15,
     "metadata": {},
     "output_type": "execute_result"
    }
   ],
   "source": [
    "# récup les données\n",
    "data2 =  pd.read_csv(\"valeurs_mensuelles.csv\", sep=\";\",skiprows= 2, index_col = 0, parse_dates = True)\n",
    "data2 = data2.drop(\"Unnamed: 2\", axis = 1)\n",
    "data2 = data2.rename(columns= {'Unnamed: 1':'valeur'})\n",
    "data2.head()\n"
   ]
  },
  {
   "cell_type": "code",
   "execution_count": 16,
   "metadata": {},
   "outputs": [
    {
     "data": {
      "text/html": [
       "<div>\n",
       "<style scoped>\n",
       "    .dataframe tbody tr th:only-of-type {\n",
       "        vertical-align: middle;\n",
       "    }\n",
       "\n",
       "    .dataframe tbody tr th {\n",
       "        vertical-align: top;\n",
       "    }\n",
       "\n",
       "    .dataframe thead th {\n",
       "        text-align: right;\n",
       "    }\n",
       "</style>\n",
       "<table border=\"1\" class=\"dataframe\">\n",
       "  <thead>\n",
       "    <tr style=\"text-align: right;\">\n",
       "      <th></th>\n",
       "      <th>valeur</th>\n",
       "      <th>diff première</th>\n",
       "    </tr>\n",
       "    <tr>\n",
       "      <th>Période</th>\n",
       "      <th></th>\n",
       "      <th></th>\n",
       "    </tr>\n",
       "  </thead>\n",
       "  <tbody>\n",
       "    <tr>\n",
       "      <th>2019-11-01</th>\n",
       "      <td>115.90</td>\n",
       "      <td>NaN</td>\n",
       "    </tr>\n",
       "    <tr>\n",
       "      <th>2019-10-01</th>\n",
       "      <td>123.81</td>\n",
       "      <td>7.91</td>\n",
       "    </tr>\n",
       "    <tr>\n",
       "      <th>2019-09-01</th>\n",
       "      <td>114.43</td>\n",
       "      <td>-9.38</td>\n",
       "    </tr>\n",
       "    <tr>\n",
       "      <th>2019-08-01</th>\n",
       "      <td>114.47</td>\n",
       "      <td>0.04</td>\n",
       "    </tr>\n",
       "    <tr>\n",
       "      <th>2019-07-01</th>\n",
       "      <td>109.02</td>\n",
       "      <td>-5.45</td>\n",
       "    </tr>\n",
       "  </tbody>\n",
       "</table>\n",
       "</div>"
      ],
      "text/plain": [
       "            valeur  diff première\n",
       "Période                          \n",
       "2019-11-01  115.90            NaN\n",
       "2019-10-01  123.81           7.91\n",
       "2019-09-01  114.43          -9.38\n",
       "2019-08-01  114.47           0.04\n",
       "2019-07-01  109.02          -5.45"
      ]
     },
     "execution_count": 16,
     "metadata": {},
     "output_type": "execute_result"
    }
   ],
   "source": [
    "#difference première à la main\n",
    "data2['diff première']=data2.diff(axis = 0, periods = 1) \n",
    "#difference second\n",
    "\n",
    "data2.head()"
   ]
  },
  {
   "cell_type": "code",
   "execution_count": 32,
   "metadata": {},
   "outputs": [
    {
     "data": {
      "text/html": [
       "<div>\n",
       "<style scoped>\n",
       "    .dataframe tbody tr th:only-of-type {\n",
       "        vertical-align: middle;\n",
       "    }\n",
       "\n",
       "    .dataframe tbody tr th {\n",
       "        vertical-align: top;\n",
       "    }\n",
       "\n",
       "    .dataframe thead th {\n",
       "        text-align: right;\n",
       "    }\n",
       "</style>\n",
       "<table border=\"1\" class=\"dataframe\">\n",
       "  <thead>\n",
       "    <tr style=\"text-align: right;\">\n",
       "      <th></th>\n",
       "      <th>valeur</th>\n",
       "      <th>diff première</th>\n",
       "      <th>diff second</th>\n",
       "    </tr>\n",
       "    <tr>\n",
       "      <th>Période</th>\n",
       "      <th></th>\n",
       "      <th></th>\n",
       "      <th></th>\n",
       "    </tr>\n",
       "  </thead>\n",
       "  <tbody>\n",
       "    <tr>\n",
       "      <th>2019-09-01</th>\n",
       "      <td>114.43</td>\n",
       "      <td>-9.38</td>\n",
       "      <td>-17.29</td>\n",
       "    </tr>\n",
       "    <tr>\n",
       "      <th>2019-08-01</th>\n",
       "      <td>114.47</td>\n",
       "      <td>0.04</td>\n",
       "      <td>9.42</td>\n",
       "    </tr>\n",
       "    <tr>\n",
       "      <th>2019-07-01</th>\n",
       "      <td>109.02</td>\n",
       "      <td>-5.45</td>\n",
       "      <td>-5.49</td>\n",
       "    </tr>\n",
       "    <tr>\n",
       "      <th>2019-06-01</th>\n",
       "      <td>115.40</td>\n",
       "      <td>6.38</td>\n",
       "      <td>11.83</td>\n",
       "    </tr>\n",
       "    <tr>\n",
       "      <th>2019-05-01</th>\n",
       "      <td>114.46</td>\n",
       "      <td>-0.94</td>\n",
       "      <td>-7.32</td>\n",
       "    </tr>\n",
       "  </tbody>\n",
       "</table>\n",
       "</div>"
      ],
      "text/plain": [
       "            valeur  diff première  diff second\n",
       "Période                                       \n",
       "2019-09-01  114.43          -9.38       -17.29\n",
       "2019-08-01  114.47           0.04         9.42\n",
       "2019-07-01  109.02          -5.45        -5.49\n",
       "2019-06-01  115.40           6.38        11.83\n",
       "2019-05-01  114.46          -0.94        -7.32"
      ]
     },
     "execution_count": 32,
     "metadata": {},
     "output_type": "execute_result"
    }
   ],
   "source": [
    "data2['diff second'] = data2['diff première'].diff(1)\n",
    "data2.dropna(inplace = True)\n",
    "data2.head()"
   ]
  },
  {
   "cell_type": "code",
   "execution_count": 40,
   "metadata": {},
   "outputs": [
    {
     "data": {
      "text/html": [
       "<div>\n",
       "<style scoped>\n",
       "    .dataframe tbody tr th:only-of-type {\n",
       "        vertical-align: middle;\n",
       "    }\n",
       "\n",
       "    .dataframe tbody tr th {\n",
       "        vertical-align: top;\n",
       "    }\n",
       "\n",
       "    .dataframe thead th {\n",
       "        text-align: right;\n",
       "    }\n",
       "</style>\n",
       "<table border=\"1\" class=\"dataframe\">\n",
       "  <thead>\n",
       "    <tr style=\"text-align: right;\">\n",
       "      <th></th>\n",
       "      <th>valeur</th>\n",
       "      <th>diff première</th>\n",
       "      <th>diff second</th>\n",
       "      <th>diff 12</th>\n",
       "    </tr>\n",
       "    <tr>\n",
       "      <th>Période</th>\n",
       "      <th></th>\n",
       "      <th></th>\n",
       "      <th></th>\n",
       "      <th></th>\n",
       "    </tr>\n",
       "  </thead>\n",
       "  <tbody>\n",
       "    <tr>\n",
       "      <th>2018-09-01</th>\n",
       "      <td>109.06</td>\n",
       "      <td>-12.23</td>\n",
       "      <td>-17.42</td>\n",
       "      <td>-5.37</td>\n",
       "    </tr>\n",
       "    <tr>\n",
       "      <th>2018-08-01</th>\n",
       "      <td>112.33</td>\n",
       "      <td>3.27</td>\n",
       "      <td>15.50</td>\n",
       "      <td>-2.14</td>\n",
       "    </tr>\n",
       "    <tr>\n",
       "      <th>2018-07-01</th>\n",
       "      <td>103.07</td>\n",
       "      <td>-9.26</td>\n",
       "      <td>-12.53</td>\n",
       "      <td>-5.95</td>\n",
       "    </tr>\n",
       "    <tr>\n",
       "      <th>2018-06-01</th>\n",
       "      <td>116.51</td>\n",
       "      <td>13.44</td>\n",
       "      <td>22.70</td>\n",
       "      <td>1.11</td>\n",
       "    </tr>\n",
       "    <tr>\n",
       "      <th>2018-05-01</th>\n",
       "      <td>109.31</td>\n",
       "      <td>-7.20</td>\n",
       "      <td>-20.64</td>\n",
       "      <td>-5.15</td>\n",
       "    </tr>\n",
       "  </tbody>\n",
       "</table>\n",
       "</div>"
      ],
      "text/plain": [
       "            valeur  diff première  diff second  diff 12\n",
       "Période                                                \n",
       "2018-09-01  109.06         -12.23       -17.42    -5.37\n",
       "2018-08-01  112.33           3.27        15.50    -2.14\n",
       "2018-07-01  103.07          -9.26       -12.53    -5.95\n",
       "2018-06-01  116.51          13.44        22.70     1.11\n",
       "2018-05-01  109.31          -7.20       -20.64    -5.15"
      ]
     },
     "execution_count": 40,
     "metadata": {},
     "output_type": "execute_result"
    }
   ],
   "source": [
    "data2['diff 12'] = data2['valeur'].diff(12)\n",
    "data2.dropna(inplace = True)\n",
    "data2.head()"
   ]
  },
  {
   "cell_type": "code",
   "execution_count": 122,
   "metadata": {},
   "outputs": [
    {
     "data": {
      "text/plain": [
       "valeur                 106.84\n",
       "diff première            5.00\n",
       "diff second              2.71\n",
       "diff 12                 -6.87\n",
       "diff 12 et 1            -6.65\n",
       "diff premiere et 12     -6.65\n",
       "diff12_1                -6.65\n",
       "date                     0.00\n",
       "Name: 2016-03-01 00:00:00, dtype: float64"
      ]
     },
     "execution_count": 122,
     "metadata": {},
     "output_type": "execute_result"
    }
   ],
   "source": [
    "(data2.iloc[0])"
   ]
  },
  {
   "cell_type": "code",
   "execution_count": 114,
   "metadata": {},
   "outputs": [
    {
     "data": {
      "text/html": [
       "<div>\n",
       "<style scoped>\n",
       "    .dataframe tbody tr th:only-of-type {\n",
       "        vertical-align: middle;\n",
       "    }\n",
       "\n",
       "    .dataframe tbody tr th {\n",
       "        vertical-align: top;\n",
       "    }\n",
       "\n",
       "    .dataframe thead th {\n",
       "        text-align: right;\n",
       "    }\n",
       "</style>\n",
       "<table border=\"1\" class=\"dataframe\">\n",
       "  <thead>\n",
       "    <tr style=\"text-align: right;\">\n",
       "      <th></th>\n",
       "      <th>valeur</th>\n",
       "      <th>diff première</th>\n",
       "      <th>diff second</th>\n",
       "      <th>diff 12</th>\n",
       "      <th>diff 12 et 1</th>\n",
       "      <th>diff premiere et 12</th>\n",
       "      <th>diff12_1</th>\n",
       "      <th>date</th>\n",
       "    </tr>\n",
       "    <tr>\n",
       "      <th>Période</th>\n",
       "      <th></th>\n",
       "      <th></th>\n",
       "      <th></th>\n",
       "      <th></th>\n",
       "      <th></th>\n",
       "      <th></th>\n",
       "      <th></th>\n",
       "      <th></th>\n",
       "    </tr>\n",
       "  </thead>\n",
       "  <tbody>\n",
       "    <tr>\n",
       "      <th>2016-03-01</th>\n",
       "      <td>106.84</td>\n",
       "      <td>5.00</td>\n",
       "      <td>2.71</td>\n",
       "      <td>-6.87</td>\n",
       "      <td>-6.65</td>\n",
       "      <td>-6.65</td>\n",
       "      <td>-6.65</td>\n",
       "      <td>0</td>\n",
       "    </tr>\n",
       "    <tr>\n",
       "      <th>2016-02-01</th>\n",
       "      <td>93.81</td>\n",
       "      <td>-13.03</td>\n",
       "      <td>-18.03</td>\n",
       "      <td>-1.30</td>\n",
       "      <td>5.57</td>\n",
       "      <td>5.57</td>\n",
       "      <td>5.57</td>\n",
       "      <td>1</td>\n",
       "    </tr>\n",
       "    <tr>\n",
       "      <th>2016-01-01</th>\n",
       "      <td>92.84</td>\n",
       "      <td>-0.97</td>\n",
       "      <td>12.06</td>\n",
       "      <td>-6.36</td>\n",
       "      <td>-5.06</td>\n",
       "      <td>-5.06</td>\n",
       "      <td>-5.06</td>\n",
       "      <td>2</td>\n",
       "    </tr>\n",
       "    <tr>\n",
       "      <th>2015-12-01</th>\n",
       "      <td>114.85</td>\n",
       "      <td>22.01</td>\n",
       "      <td>22.98</td>\n",
       "      <td>-2.84</td>\n",
       "      <td>3.52</td>\n",
       "      <td>3.52</td>\n",
       "      <td>3.52</td>\n",
       "      <td>3</td>\n",
       "    </tr>\n",
       "    <tr>\n",
       "      <th>2015-11-01</th>\n",
       "      <td>99.09</td>\n",
       "      <td>-15.76</td>\n",
       "      <td>-37.77</td>\n",
       "      <td>-5.20</td>\n",
       "      <td>-2.36</td>\n",
       "      <td>-2.36</td>\n",
       "      <td>-2.36</td>\n",
       "      <td>4</td>\n",
       "    </tr>\n",
       "  </tbody>\n",
       "</table>\n",
       "</div>"
      ],
      "text/plain": [
       "            valeur  diff première  diff second  diff 12  diff 12 et 1  \\\n",
       "Période                                                                 \n",
       "2016-03-01  106.84           5.00         2.71    -6.87         -6.65   \n",
       "2016-02-01   93.81         -13.03       -18.03    -1.30          5.57   \n",
       "2016-01-01   92.84          -0.97        12.06    -6.36         -5.06   \n",
       "2015-12-01  114.85          22.01        22.98    -2.84          3.52   \n",
       "2015-11-01   99.09         -15.76       -37.77    -5.20         -2.36   \n",
       "\n",
       "            diff premiere et 12  diff12_1  date  \n",
       "Période                                          \n",
       "2016-03-01                -6.65     -6.65     0  \n",
       "2016-02-01                 5.57      5.57     1  \n",
       "2016-01-01                -5.06     -5.06     2  \n",
       "2015-12-01                 3.52      3.52     3  \n",
       "2015-11-01                -2.36     -2.36     4  "
      ]
     },
     "execution_count": 114,
     "metadata": {},
     "output_type": "execute_result"
    }
   ],
   "source": [
    "import numpy as np\n",
    "data2['diff12_1'] = data2['diff 12'].diff(1)\n",
    "data2.dropna(inplace = True)\n",
    "data2['date']= np.arange(len(data2.index))\n",
    "data2.head()\n"
   ]
  },
  {
   "cell_type": "code",
   "execution_count": 74,
   "metadata": {},
   "outputs": [
    {
     "data": {
      "text/plain": [
       "<matplotlib.axes._subplots.AxesSubplot at 0x7fef21a70f60>"
      ]
     },
     "execution_count": 74,
     "metadata": {},
     "output_type": "execute_result"
    },
    {
     "data": {
      "image/png": "[encoded data removed]",
      "text/plain": [
       "<Figure size 1008x288 with 1 Axes>"
      ]
     },
     "metadata": {
      "needs_background": "light"
     },
     "output_type": "display_data"
    }
   ],
   "source": [
    "data2.plot(y=['valeur', 'diff première', 'diff second', 'diff 12', 'diff12_1', 'diff premiere et 12'],figsize=(14,4))"
   ]
  },
  {
   "cell_type": "code",
   "execution_count": 18,
   "metadata": {},
   "outputs": [
    {
     "name": "stdout",
     "output_type": "stream",
     "text": [
      "ADF Statistic: -2.501702\n",
      "p-value: 0.115061\n",
      "Critical Values:\n",
      "\t1%: -3.458\n",
      "\t5%: -2.874\n",
      "\t10%: -2.573\n"
     ]
    }
   ],
   "source": [
    "#test de dickeyfuller\n",
    "from statsmodels.tsa.stattools import adfuller\n",
    "data2 = data2.dropna()\n",
    "data2.head()\n",
    "X = data2['diff première']\n",
    "result = adfuller(X)\n",
    "print('ADF Statistic: %f' % result[0])\n",
    "print('p-value: %f' % result[1])\n",
    "print('Critical Values:')\n",
    "for key, value in result[4].items():\n",
    "\tprint('\\t%s: %.3f' % (key, value))"
   ]
  },
  {
   "cell_type": "code",
   "execution_count": 34,
   "metadata": {},
   "outputs": [
    {
     "name": "stdout",
     "output_type": "stream",
     "text": [
      "ADF Statistic: -5.446632\n",
      "p-value: 0.000003\n",
      "Critical Values:\n",
      "\t1%: -3.459\n",
      "\t5%: -2.874\n",
      "\t10%: -2.573\n"
     ]
    }
   ],
   "source": [
    "#test dickey fuller diff second\n",
    "from statsmodels.tsa.stattools import adfuller\n",
    "data2 = data2.dropna()\n",
    "data2.head()\n",
    "Z = data2['diff second']\n",
    "result = adfuller(Z)\n",
    "print('ADF Statistic: %f' % result[0])\n",
    "print('p-value: %f' % result[1])\n",
    "print('Critical Values:')\n",
    "for key, value in result[4].items():\n",
    "\tprint('\\t%s: %.3f' % (key, value))"
   ]
  },
  {
   "cell_type": "code",
   "execution_count": 42,
   "metadata": {},
   "outputs": [
    {
     "name": "stdout",
     "output_type": "stream",
     "text": [
      "ADF Statistic: -3.916315\n",
      "p-value: 0.001918\n",
      "Critical Values:\n",
      "\t1%: -3.460\n",
      "\t5%: -2.875\n",
      "\t10%: -2.574\n"
     ]
    }
   ],
   "source": [
    "#tesdickey fuller diff 12\n",
    "from statsmodels.tsa.stattools import adfuller\n",
    "data2 = data2.dropna()\n",
    "data2.head()\n",
    "T = data2['diff 12']\n",
    "result = adfuller(T)\n",
    "print('ADF Statistic: %f' % result[0])\n",
    "print('p-value: %f' % result[1])\n",
    "print('Critical Values:')\n",
    "for key, value in result[4].items():\n",
    "\tprint('\\t%s: %.3f' % (key, value))"
   ]
  },
  {
   "cell_type": "code",
   "execution_count": 75,
   "metadata": {},
   "outputs": [
    {
     "name": "stdout",
     "output_type": "stream",
     "text": [
      "ADF Statistic: -5.216375\n",
      "p-value: 0.000008\n",
      "Critical Values:\n",
      "\t1%: -3.462\n",
      "\t5%: -2.876\n",
      "\t10%: -2.574\n"
     ]
    }
   ],
   "source": [
    "#tesdickey fuller diff 12 et 1\n",
    "from statsmodels.tsa.stattools import adfuller\n",
    "data2 = data2.dropna()\n",
    "data2.head()\n",
    "R = data2['diff12_1']\n",
    "result = adfuller(R)\n",
    "print('ADF Statistic: %f' % result[0])\n",
    "print('p-value: %f' % result[1])\n",
    "print('Critical Values:')\n",
    "for key, value in result[4].items():\n",
    "\tprint('\\t%s: %.3f' % (key, value))"
   ]
  },
  {
   "cell_type": "markdown",
   "metadata": {},
   "source": [
    "## Tracer les autocorelations et les autocorelations partielles"
   ]
  },
  {
   "cell_type": "code",
   "execution_count": 76,
   "metadata": {},
   "outputs": [
    {
     "data": {
      "image/png": "[encoded data removed]",
      "text/plain": [
       "<Figure size 432x288 with 1 Axes>"
      ]
     },
     "metadata": {
      "needs_background": "light"
     },
     "output_type": "display_data"
    }
   ],
   "source": [
    "#trace les autocorelations\n",
    "from statsmodels.graphics.tsaplots import plot_acf\n",
    "from matplotlib import pyplot\n",
    "plot_acf(R)\n",
    "pyplot.show()\n"
   ]
  },
  {
   "cell_type": "code",
   "execution_count": 77,
   "metadata": {},
   "outputs": [
    {
     "data": {
      "image/png": "[encoded data removed]",
      "text/plain": [
       "<Figure size 432x288 with 1 Axes>"
      ]
     },
     "metadata": {
      "needs_background": "light"
     },
     "output_type": "display_data"
    }
   ],
   "source": [
    "#envie de zommer sur quelques valeurs\n",
    "plot_acf(R, lags = 50)\n",
    "pyplot.show()"
   ]
  },
  {
   "cell_type": "code",
   "execution_count": 78,
   "metadata": {},
   "outputs": [
    {
     "data": {
      "image/png": "[encoded data removed]",
      "text/plain": [
       "<Figure size 432x288 with 1 Axes>"
      ]
     },
     "metadata": {
      "needs_background": "light"
     },
     "output_type": "display_data"
    }
   ],
   "source": [
    "#trace les autocorelations partielles\n",
    "from statsmodels.graphics.tsaplots import plot_pacf\n",
    "plot_pacf(R, lags=50)\n",
    "pyplot.show()"
   ]
  },
  {
   "cell_type": "markdown",
   "metadata": {},
   "source": [
    "## Modèle ARMA"
   ]
  },
  {
   "cell_type": "code",
   "execution_count": 116,
   "metadata": {},
   "outputs": [
    {
     "name": "stderr",
     "output_type": "stream",
     "text": [
      "/home/fatima_moqran/anaconda3/lib/python3.7/site-packages/statsmodels/tsa/base/tsa_model.py:171: ValueWarning: No frequency information was provided, so inferred frequency -1MS will be used.\n",
      "  % freq, ValueWarning)\n"
     ]
    },
    {
     "ename": "IndexError",
     "evalue": "index 0 is out of bounds for axis 0 with size 0",
     "output_type": "error",
     "traceback": [
      "\u001b[0;31m---------------------------------------------------------------------------\u001b[0m",
      "\u001b[0;31mIndexError\u001b[0m                                Traceback (most recent call last)",
      "\u001b[0;32m<ipython-input-116-6252be8e3851>\u001b[0m in \u001b[0;36m<module>\u001b[0;34m\u001b[0m\n\u001b[1;32m      2\u001b[0m \u001b[0mmodel\u001b[0m \u001b[0;34m=\u001b[0m \u001b[0mARMA\u001b[0m\u001b[0;34m(\u001b[0m\u001b[0mdata2\u001b[0m\u001b[0;34m.\u001b[0m\u001b[0mdiff12_1\u001b[0m\u001b[0;34m,\u001b[0m\u001b[0;34m(\u001b[0m\u001b[0;36m3\u001b[0m\u001b[0;34m,\u001b[0m\u001b[0;36m0\u001b[0m\u001b[0;34m)\u001b[0m\u001b[0;34m)\u001b[0m\u001b[0;34m\u001b[0m\u001b[0;34m\u001b[0m\u001b[0m\n\u001b[1;32m      3\u001b[0m \u001b[0mtrain\u001b[0m \u001b[0;34m=\u001b[0m \u001b[0mmodel\u001b[0m\u001b[0;34m.\u001b[0m\u001b[0mfit\u001b[0m\u001b[0;34m(\u001b[0m\u001b[0;34m)\u001b[0m\u001b[0;34m\u001b[0m\u001b[0;34m\u001b[0m\u001b[0m\n\u001b[0;32m----> 4\u001b[0;31m \u001b[0mprint\u001b[0m\u001b[0;34m(\u001b[0m\u001b[0mtrain\u001b[0m\u001b[0;34m.\u001b[0m\u001b[0msummary\u001b[0m\u001b[0;34m(\u001b[0m\u001b[0;34m)\u001b[0m\u001b[0;34m)\u001b[0m\u001b[0;34m\u001b[0m\u001b[0;34m\u001b[0m\u001b[0m\n\u001b[0m\u001b[1;32m      5\u001b[0m \u001b[0;34m\u001b[0m\u001b[0m\n\u001b[1;32m      6\u001b[0m \u001b[0mprint\u001b[0m\u001b[0;34m(\u001b[0m\u001b[0mtrain\u001b[0m\u001b[0;34m.\u001b[0m\u001b[0mresid\u001b[0m\u001b[0;34m)\u001b[0m\u001b[0;34m\u001b[0m\u001b[0;34m\u001b[0m\u001b[0m\n",
      "\u001b[0;32m~/anaconda3/lib/python3.7/site-packages/statsmodels/tsa/arima_model.py\u001b[0m in \u001b[0;36msummary\u001b[0;34m(self, alpha)\u001b[0m\n\u001b[1;32m   1606\u001b[0m         \u001b[0;32mif\u001b[0m \u001b[0mself\u001b[0m\u001b[0;34m.\u001b[0m\u001b[0mdata\u001b[0m\u001b[0;34m.\u001b[0m\u001b[0mdates\u001b[0m \u001b[0;32mis\u001b[0m \u001b[0;32mnot\u001b[0m \u001b[0;32mNone\u001b[0m\u001b[0;34m:\u001b[0m\u001b[0;34m\u001b[0m\u001b[0;34m\u001b[0m\u001b[0m\n\u001b[1;32m   1607\u001b[0m             \u001b[0mdates\u001b[0m \u001b[0;34m=\u001b[0m \u001b[0mself\u001b[0m\u001b[0;34m.\u001b[0m\u001b[0mdata\u001b[0m\u001b[0;34m.\u001b[0m\u001b[0mdates\u001b[0m\u001b[0;34m\u001b[0m\u001b[0;34m\u001b[0m\u001b[0m\n\u001b[0;32m-> 1608\u001b[0;31m             \u001b[0msample\u001b[0m \u001b[0;34m=\u001b[0m \u001b[0;34m[\u001b[0m\u001b[0mdates\u001b[0m\u001b[0;34m[\u001b[0m\u001b[0mstart\u001b[0m\u001b[0;34m]\u001b[0m\u001b[0;34m.\u001b[0m\u001b[0mstrftime\u001b[0m\u001b[0;34m(\u001b[0m\u001b[0;34m'%m-%d-%Y'\u001b[0m\u001b[0;34m)\u001b[0m\u001b[0;34m]\u001b[0m\u001b[0;34m\u001b[0m\u001b[0;34m\u001b[0m\u001b[0m\n\u001b[0m\u001b[1;32m   1609\u001b[0m             \u001b[0msample\u001b[0m \u001b[0;34m+=\u001b[0m \u001b[0;34m[\u001b[0m\u001b[0;34m'- '\u001b[0m \u001b[0;34m+\u001b[0m \u001b[0mdates\u001b[0m\u001b[0;34m[\u001b[0m\u001b[0;34m-\u001b[0m\u001b[0;36m1\u001b[0m\u001b[0;34m]\u001b[0m\u001b[0;34m.\u001b[0m\u001b[0mstrftime\u001b[0m\u001b[0;34m(\u001b[0m\u001b[0;34m'%m-%d-%Y'\u001b[0m\u001b[0;34m)\u001b[0m\u001b[0;34m]\u001b[0m\u001b[0;34m\u001b[0m\u001b[0;34m\u001b[0m\u001b[0m\n\u001b[1;32m   1610\u001b[0m         \u001b[0;32melse\u001b[0m\u001b[0;34m:\u001b[0m\u001b[0;34m\u001b[0m\u001b[0;34m\u001b[0m\u001b[0m\n",
      "\u001b[0;32m~/anaconda3/lib/python3.7/site-packages/pandas/core/indexes/datetimelike.py\u001b[0m in \u001b[0;36m__getitem__\u001b[0;34m(self, key)\u001b[0m\n\u001b[1;32m    401\u001b[0m         \u001b[0mgetitem\u001b[0m \u001b[0;34m=\u001b[0m \u001b[0mself\u001b[0m\u001b[0;34m.\u001b[0m\u001b[0m_data\u001b[0m\u001b[0;34m.\u001b[0m\u001b[0m__getitem__\u001b[0m\u001b[0;34m\u001b[0m\u001b[0;34m\u001b[0m\u001b[0m\n\u001b[1;32m    402\u001b[0m         \u001b[0;32mif\u001b[0m \u001b[0mis_int\u001b[0m\u001b[0;34m:\u001b[0m\u001b[0;34m\u001b[0m\u001b[0;34m\u001b[0m\u001b[0m\n\u001b[0;32m--> 403\u001b[0;31m             \u001b[0mval\u001b[0m \u001b[0;34m=\u001b[0m \u001b[0mgetitem\u001b[0m\u001b[0;34m(\u001b[0m\u001b[0mkey\u001b[0m\u001b[0;34m)\u001b[0m\u001b[0;34m\u001b[0m\u001b[0;34m\u001b[0m\u001b[0m\n\u001b[0m\u001b[1;32m    404\u001b[0m             \u001b[0;32mreturn\u001b[0m \u001b[0mself\u001b[0m\u001b[0;34m.\u001b[0m\u001b[0m_box_func\u001b[0m\u001b[0;34m(\u001b[0m\u001b[0mval\u001b[0m\u001b[0;34m)\u001b[0m\u001b[0;34m\u001b[0m\u001b[0;34m\u001b[0m\u001b[0m\n\u001b[1;32m    405\u001b[0m         \u001b[0;32melse\u001b[0m\u001b[0;34m:\u001b[0m\u001b[0;34m\u001b[0m\u001b[0;34m\u001b[0m\u001b[0m\n",
      "\u001b[0;32m~/anaconda3/lib/python3.7/site-packages/pandas/core/indexes/datetimelike.py\u001b[0m in \u001b[0;36m__getitem__\u001b[0;34m(self, key)\u001b[0m\n\u001b[1;32m    401\u001b[0m         \u001b[0mgetitem\u001b[0m \u001b[0;34m=\u001b[0m \u001b[0mself\u001b[0m\u001b[0;34m.\u001b[0m\u001b[0m_data\u001b[0m\u001b[0;34m.\u001b[0m\u001b[0m__getitem__\u001b[0m\u001b[0;34m\u001b[0m\u001b[0;34m\u001b[0m\u001b[0m\n\u001b[1;32m    402\u001b[0m         \u001b[0;32mif\u001b[0m \u001b[0mis_int\u001b[0m\u001b[0;34m:\u001b[0m\u001b[0;34m\u001b[0m\u001b[0;34m\u001b[0m\u001b[0m\n\u001b[0;32m--> 403\u001b[0;31m             \u001b[0mval\u001b[0m \u001b[0;34m=\u001b[0m \u001b[0mgetitem\u001b[0m\u001b[0;34m(\u001b[0m\u001b[0mkey\u001b[0m\u001b[0;34m)\u001b[0m\u001b[0;34m\u001b[0m\u001b[0;34m\u001b[0m\u001b[0m\n\u001b[0m\u001b[1;32m    404\u001b[0m             \u001b[0;32mreturn\u001b[0m \u001b[0mself\u001b[0m\u001b[0;34m.\u001b[0m\u001b[0m_box_func\u001b[0m\u001b[0;34m(\u001b[0m\u001b[0mval\u001b[0m\u001b[0;34m)\u001b[0m\u001b[0;34m\u001b[0m\u001b[0;34m\u001b[0m\u001b[0m\n\u001b[1;32m    405\u001b[0m         \u001b[0;32melse\u001b[0m\u001b[0;34m:\u001b[0m\u001b[0;34m\u001b[0m\u001b[0;34m\u001b[0m\u001b[0m\n",
      "\u001b[0;31mIndexError\u001b[0m: index 0 is out of bounds for axis 0 with size 0"
     ]
    }
   ],
   "source": [
    "from statsmodels.tsa.arima_model import ARMA\n",
    "model = ARMA(data2.diff12_1,(3,0))\n",
    "train = model.fit()\n",
    "print(train.summary())\n",
    "\n",
    "print(train.resid)"
   ]
  },
  {
   "cell_type": "code",
   "execution_count": null,
   "metadata": {},
   "outputs": [],
   "source": [
    "residus = train.resid"
   ]
  },
  {
   "cell_type": "code",
   "execution_count": null,
   "metadata": {},
   "outputs": [],
   "source": [
    "#imprimer le summary\n",
    "#Tester les résidus si ils sont stationnaires\n",
    "#si modèle bon on doit fitter "
   ]
  }
 ],
 "metadata": {
  "kernelspec": {
   "display_name": "Python 3",
   "language": "python",
   "name": "python3"
  },
  "language_info": {
   "codemirror_mode": {
    "name": "ipython",
    "version": 3
   },
   "file_extension": ".py",
   "mimetype": "text/x-python",
   "name": "python",
   "nbconvert_exporter": "python",
   "pygments_lexer": "ipython3",
   "version": "3.7.1"
  }
 },
 "nbformat": 4,
 "nbformat_minor": 2
}
